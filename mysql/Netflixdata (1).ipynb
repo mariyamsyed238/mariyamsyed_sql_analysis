{
 "cells": [
  {
   "cell_type": "code",
   "execution_count": 2,
   "id": "f89f43ad",
   "metadata": {},
   "outputs": [],
   "source": [
    "import mysql.connector\n",
    "import pandas as pd\n",
    "import matplotlib.pyplot as plt\n",
    "import seaborn as sns"
   ]
  },
  {
   "cell_type": "code",
   "execution_count": 3,
   "id": "78257090",
   "metadata": {},
   "outputs": [],
   "source": [
    "# Replace 'your_username', 'your_password', 'your_host', and 'your_database' with\n",
    "\n",
    "connection = mysql.connector.connect(\n",
    "user='root',\n",
    "password='root123',\n",
    "host='localhost',\n",
    "database='nextflix' # write here database name \n",
    ")"
   ]
  },
  {
   "cell_type": "code",
   "execution_count": 4,
   "id": "9210cc64",
   "metadata": {},
   "outputs": [],
   "source": [
    "cursor = connection.cursor()\n"
   ]
  },
  {
   "cell_type": "code",
   "execution_count": 5,
   "id": "90b4646a",
   "metadata": {},
   "outputs": [],
   "source": [
    "cursor.execute('SELECT * FROM netflix_shows') \n"
   ]
  },
  {
   "cell_type": "code",
   "execution_count": 6,
   "id": "b64a472e",
   "metadata": {},
   "outputs": [],
   "source": [
    "df= pd.DataFrame(cursor.fetchall(), columns=[desc[0] for desc in\n",
    "cursor.description])\n"
   ]
  },
  {
   "cell_type": "code",
   "execution_count": 7,
   "id": "75a6a585",
   "metadata": {},
   "outputs": [],
   "source": [
    "# Query data from the 'netflix_shows' table\n",
    "cursor.execute('SELECT * FROM netflix_shows ')\n",
    "df= pd.DataFrame(cursor.fetchall(), columns=[desc[0] for desc in\n",
    "cursor.description])"
   ]
  },
  {
   "cell_type": "code",
   "execution_count": 8,
   "id": "2b9ccfab",
   "metadata": {},
   "outputs": [
    {
     "data": {
      "text/html": [
       "<div>\n",
       "<style scoped>\n",
       "    .dataframe tbody tr th:only-of-type {\n",
       "        vertical-align: middle;\n",
       "    }\n",
       "\n",
       "    .dataframe tbody tr th {\n",
       "        vertical-align: top;\n",
       "    }\n",
       "\n",
       "    .dataframe thead th {\n",
       "        text-align: right;\n",
       "    }\n",
       "</style>\n",
       "<table border=\"1\" class=\"dataframe\">\n",
       "  <thead>\n",
       "    <tr style=\"text-align: right;\">\n",
       "      <th></th>\n",
       "      <th>show_id</th>\n",
       "      <th>type</th>\n",
       "      <th>title</th>\n",
       "      <th>director_id</th>\n",
       "      <th>cast</th>\n",
       "      <th>country</th>\n",
       "      <th>date_added</th>\n",
       "      <th>release_year</th>\n",
       "      <th>rating</th>\n",
       "      <th>duration</th>\n",
       "      <th>listed_in</th>\n",
       "      <th>description</th>\n",
       "    </tr>\n",
       "  </thead>\n",
       "  <tbody>\n",
       "    <tr>\n",
       "      <th>0</th>\n",
       "      <td>s1</td>\n",
       "      <td>Movie</td>\n",
       "      <td>Dick Johnson Is Dead</td>\n",
       "      <td>1.0</td>\n",
       "      <td>None</td>\n",
       "      <td>United States</td>\n",
       "      <td>2021-09-25</td>\n",
       "      <td>2020</td>\n",
       "      <td>PG-13</td>\n",
       "      <td>90 min</td>\n",
       "      <td>Documentaries</td>\n",
       "      <td>As her father nears the end of his life, filmm...</td>\n",
       "    </tr>\n",
       "    <tr>\n",
       "      <th>1</th>\n",
       "      <td>s10</td>\n",
       "      <td>Movie</td>\n",
       "      <td>The Starling</td>\n",
       "      <td>7.0</td>\n",
       "      <td>Melissa McCarthy, Chris O'Dowd, Kevin Kline, T...</td>\n",
       "      <td>United States</td>\n",
       "      <td>2021-09-24</td>\n",
       "      <td>2021</td>\n",
       "      <td>PG-13</td>\n",
       "      <td>104 min</td>\n",
       "      <td>Comedies, Dramas</td>\n",
       "      <td>A woman adjusting to life after a loss contend...</td>\n",
       "    </tr>\n",
       "    <tr>\n",
       "      <th>2</th>\n",
       "      <td>s12</td>\n",
       "      <td>TV Show</td>\n",
       "      <td>Bangkok Breaking</td>\n",
       "      <td>8.0</td>\n",
       "      <td>Sukollawat Kanarot, Sushar Manaying, Pavarit M...</td>\n",
       "      <td>None</td>\n",
       "      <td>2021-09-23</td>\n",
       "      <td>2021</td>\n",
       "      <td>TV-MA</td>\n",
       "      <td>1 Season</td>\n",
       "      <td>Crime TV Shows, International TV Shows, TV Act...</td>\n",
       "      <td>Struggling to earn a living in Bangkok, a man ...</td>\n",
       "    </tr>\n",
       "    <tr>\n",
       "      <th>3</th>\n",
       "      <td>s13</td>\n",
       "      <td>Movie</td>\n",
       "      <td>Je Suis Karl</td>\n",
       "      <td>NaN</td>\n",
       "      <td>Luna Wedler, Jannis Niewühner, Milan Peschel, ...</td>\n",
       "      <td>Germany, Czech Republic</td>\n",
       "      <td>2021-09-23</td>\n",
       "      <td>2021</td>\n",
       "      <td>TV-MA</td>\n",
       "      <td>127 min</td>\n",
       "      <td>Dramas, International Movies</td>\n",
       "      <td>After most of her family is murdered in a terr...</td>\n",
       "    </tr>\n",
       "    <tr>\n",
       "      <th>4</th>\n",
       "      <td>s14</td>\n",
       "      <td>Movie</td>\n",
       "      <td>Confessions of an Invisible Girl</td>\n",
       "      <td>NaN</td>\n",
       "      <td>Klara Castanho, Lucca Picon, Júlia Gomes, Marc...</td>\n",
       "      <td>None</td>\n",
       "      <td>2021-09-22</td>\n",
       "      <td>2021</td>\n",
       "      <td>TV-PG</td>\n",
       "      <td>91 min</td>\n",
       "      <td>Children &amp; Family Movies, Comedies</td>\n",
       "      <td>When the clever but socially-awkward Tetê join...</td>\n",
       "    </tr>\n",
       "  </tbody>\n",
       "</table>\n",
       "</div>"
      ],
      "text/plain": [
       "  show_id     type                             title  director_id  \\\n",
       "0      s1    Movie              Dick Johnson Is Dead          1.0   \n",
       "1     s10    Movie                      The Starling          7.0   \n",
       "2     s12  TV Show                  Bangkok Breaking          8.0   \n",
       "3     s13    Movie                      Je Suis Karl          NaN   \n",
       "4     s14    Movie  Confessions of an Invisible Girl          NaN   \n",
       "\n",
       "                                                cast                  country  \\\n",
       "0                                               None            United States   \n",
       "1  Melissa McCarthy, Chris O'Dowd, Kevin Kline, T...            United States   \n",
       "2  Sukollawat Kanarot, Sushar Manaying, Pavarit M...                     None   \n",
       "3  Luna Wedler, Jannis Niewühner, Milan Peschel, ...  Germany, Czech Republic   \n",
       "4  Klara Castanho, Lucca Picon, Júlia Gomes, Marc...                     None   \n",
       "\n",
       "   date_added  release_year rating  duration  \\\n",
       "0  2021-09-25          2020  PG-13    90 min   \n",
       "1  2021-09-24          2021  PG-13   104 min   \n",
       "2  2021-09-23          2021  TV-MA  1 Season   \n",
       "3  2021-09-23          2021  TV-MA   127 min   \n",
       "4  2021-09-22          2021  TV-PG    91 min   \n",
       "\n",
       "                                           listed_in  \\\n",
       "0                                      Documentaries   \n",
       "1                                   Comedies, Dramas   \n",
       "2  Crime TV Shows, International TV Shows, TV Act...   \n",
       "3                       Dramas, International Movies   \n",
       "4                 Children & Family Movies, Comedies   \n",
       "\n",
       "                                         description  \n",
       "0  As her father nears the end of his life, filmm...  \n",
       "1  A woman adjusting to life after a loss contend...  \n",
       "2  Struggling to earn a living in Bangkok, a man ...  \n",
       "3  After most of her family is murdered in a terr...  \n",
       "4  When the clever but socially-awkward Tetê join...  "
      ]
     },
     "execution_count": 8,
     "metadata": {},
     "output_type": "execute_result"
    }
   ],
   "source": [
    "df.head()\n",
    "\n"
   ]
  },
  {
   "cell_type": "code",
   "execution_count": 36,
   "id": "af7b6d24",
   "metadata": {},
   "outputs": [],
   "source": [
    "# Handle missing values\n",
    "df.dropna(inplace=True)  # Drop rows with any missing values\n",
    " "
   ]
  },
  {
   "cell_type": "code",
   "execution_count": 37,
   "id": "15f1dbf0",
   "metadata": {},
   "outputs": [],
   "source": [
    "# Remove duplicates\n",
    "df.drop_duplicates(inplace=True)"
   ]
  },
  {
   "cell_type": "code",
   "execution_count": 39,
   "id": "8da09abb",
   "metadata": {},
   "outputs": [],
   "source": [
    "# Check data consistency\n",
    "# convert date columns to datetime format if needed\n",
    "df['director_id'] = pd.to_datetime(df['director_id'])\n",
    "df['date_added'] = pd.to_datetime(df['date_added']) "
   ]
  },
  {
   "cell_type": "code",
   "execution_count": 41,
   "id": "12e31be7",
   "metadata": {},
   "outputs": [
    {
     "data": {
      "text/html": [
       "<div>\n",
       "<style scoped>\n",
       "    .dataframe tbody tr th:only-of-type {\n",
       "        vertical-align: middle;\n",
       "    }\n",
       "\n",
       "    .dataframe tbody tr th {\n",
       "        vertical-align: top;\n",
       "    }\n",
       "\n",
       "    .dataframe thead th {\n",
       "        text-align: right;\n",
       "    }\n",
       "</style>\n",
       "<table border=\"1\" class=\"dataframe\">\n",
       "  <thead>\n",
       "    <tr style=\"text-align: right;\">\n",
       "      <th></th>\n",
       "      <th>show_id</th>\n",
       "      <th>type</th>\n",
       "      <th>title</th>\n",
       "      <th>director_id</th>\n",
       "      <th>cast</th>\n",
       "      <th>country</th>\n",
       "      <th>date_added</th>\n",
       "      <th>release_year</th>\n",
       "      <th>rating</th>\n",
       "      <th>duration</th>\n",
       "      <th>listed_in</th>\n",
       "      <th>description</th>\n",
       "    </tr>\n",
       "  </thead>\n",
       "  <tbody>\n",
       "    <tr>\n",
       "      <th>1</th>\n",
       "      <td>s10</td>\n",
       "      <td>Movie</td>\n",
       "      <td>The Starling</td>\n",
       "      <td>1970-01-01 00:00:00.000000007</td>\n",
       "      <td>Melissa McCarthy, Chris O'Dowd, Kevin Kline, T...</td>\n",
       "      <td>United States</td>\n",
       "      <td>2021-09-24</td>\n",
       "      <td>2021</td>\n",
       "      <td>PG-13</td>\n",
       "      <td>104 min</td>\n",
       "      <td>Comedies, Dramas</td>\n",
       "      <td>A woman adjusting to life after a loss contend...</td>\n",
       "    </tr>\n",
       "    <tr>\n",
       "      <th>30</th>\n",
       "      <td>s39</td>\n",
       "      <td>Movie</td>\n",
       "      <td>Birth of the Dragon</td>\n",
       "      <td>1970-01-01 00:00:00.000000001</td>\n",
       "      <td>Billy Magnussen, Ron Yuan, Qu Jingjing, Terry ...</td>\n",
       "      <td>China, Canada, United States</td>\n",
       "      <td>2021-09-16</td>\n",
       "      <td>2017</td>\n",
       "      <td>PG-13</td>\n",
       "      <td>96 min</td>\n",
       "      <td>Action &amp; Adventure, Dramas</td>\n",
       "      <td>A young Bruce Lee angers kung fu traditionalis...</td>\n",
       "    </tr>\n",
       "    <tr>\n",
       "      <th>44</th>\n",
       "      <td>s8</td>\n",
       "      <td>Movie</td>\n",
       "      <td>Sankofa</td>\n",
       "      <td>1970-01-01 00:00:00.000000005</td>\n",
       "      <td>Kofi Ghanaba, Oyafunmike Ogunlano, Alexandra D...</td>\n",
       "      <td>United States, Ghana, Burkina Faso, United Kin...</td>\n",
       "      <td>2021-09-24</td>\n",
       "      <td>1993</td>\n",
       "      <td>TV-MA</td>\n",
       "      <td>125 min</td>\n",
       "      <td>Dramas, Independent Movies, International Movies</td>\n",
       "      <td>On a photo shoot in Ghana, an American model s...</td>\n",
       "    </tr>\n",
       "    <tr>\n",
       "      <th>45</th>\n",
       "      <td>s9</td>\n",
       "      <td>TV Show</td>\n",
       "      <td>The Great British Baking Show</td>\n",
       "      <td>1970-01-01 00:00:00.000000006</td>\n",
       "      <td>Mel Giedroyc, Sue Perkins, Mary Berry, Paul Ho...</td>\n",
       "      <td>United Kingdom</td>\n",
       "      <td>2021-09-24</td>\n",
       "      <td>2021</td>\n",
       "      <td>TV-14</td>\n",
       "      <td>9 Seasons</td>\n",
       "      <td>British TV Shows, Reality TV</td>\n",
       "      <td>A talented batch of amateur bakers face off in...</td>\n",
       "    </tr>\n",
       "  </tbody>\n",
       "</table>\n",
       "</div>"
      ],
      "text/plain": [
       "   show_id     type                          title  \\\n",
       "1      s10    Movie                   The Starling   \n",
       "30     s39    Movie            Birth of the Dragon   \n",
       "44      s8    Movie                        Sankofa   \n",
       "45      s9  TV Show  The Great British Baking Show   \n",
       "\n",
       "                     director_id  \\\n",
       "1  1970-01-01 00:00:00.000000007   \n",
       "30 1970-01-01 00:00:00.000000001   \n",
       "44 1970-01-01 00:00:00.000000005   \n",
       "45 1970-01-01 00:00:00.000000006   \n",
       "\n",
       "                                                 cast  \\\n",
       "1   Melissa McCarthy, Chris O'Dowd, Kevin Kline, T...   \n",
       "30  Billy Magnussen, Ron Yuan, Qu Jingjing, Terry ...   \n",
       "44  Kofi Ghanaba, Oyafunmike Ogunlano, Alexandra D...   \n",
       "45  Mel Giedroyc, Sue Perkins, Mary Berry, Paul Ho...   \n",
       "\n",
       "                                              country date_added  \\\n",
       "1                                       United States 2021-09-24   \n",
       "30                       China, Canada, United States 2021-09-16   \n",
       "44  United States, Ghana, Burkina Faso, United Kin... 2021-09-24   \n",
       "45                                     United Kingdom 2021-09-24   \n",
       "\n",
       "    release_year rating   duration  \\\n",
       "1           2021  PG-13    104 min   \n",
       "30          2017  PG-13     96 min   \n",
       "44          1993  TV-MA    125 min   \n",
       "45          2021  TV-14  9 Seasons   \n",
       "\n",
       "                                           listed_in  \\\n",
       "1                                   Comedies, Dramas   \n",
       "30                        Action & Adventure, Dramas   \n",
       "44  Dramas, Independent Movies, International Movies   \n",
       "45                      British TV Shows, Reality TV   \n",
       "\n",
       "                                          description  \n",
       "1   A woman adjusting to life after a loss contend...  \n",
       "30  A young Bruce Lee angers kung fu traditionalis...  \n",
       "44  On a photo shoot in Ghana, an American model s...  \n",
       "45  A talented batch of amateur bakers face off in...  "
      ]
     },
     "execution_count": 41,
     "metadata": {},
     "output_type": "execute_result"
    }
   ],
   "source": [
    "df.head(5)"
   ]
  },
  {
   "cell_type": "code",
   "execution_count": 42,
   "id": "0f75dd1b",
   "metadata": {},
   "outputs": [],
   "source": [
    "# Save the cleaned data to a new file\n",
    "df.to_csv('cleaned_data.csv', index=False)\n"
   ]
  },
  {
   "cell_type": "code",
   "execution_count": 43,
   "id": "e4f3b7d7",
   "metadata": {},
   "outputs": [
    {
     "data": {
      "text/html": [
       "<div>\n",
       "<style scoped>\n",
       "    .dataframe tbody tr th:only-of-type {\n",
       "        vertical-align: middle;\n",
       "    }\n",
       "\n",
       "    .dataframe tbody tr th {\n",
       "        vertical-align: top;\n",
       "    }\n",
       "\n",
       "    .dataframe thead th {\n",
       "        text-align: right;\n",
       "    }\n",
       "</style>\n",
       "<table border=\"1\" class=\"dataframe\">\n",
       "  <thead>\n",
       "    <tr style=\"text-align: right;\">\n",
       "      <th></th>\n",
       "      <th>show_id</th>\n",
       "      <th>type</th>\n",
       "      <th>title</th>\n",
       "      <th>director_id</th>\n",
       "      <th>cast</th>\n",
       "      <th>country</th>\n",
       "      <th>date_added</th>\n",
       "      <th>release_year</th>\n",
       "      <th>rating</th>\n",
       "      <th>duration</th>\n",
       "      <th>listed_in</th>\n",
       "      <th>description</th>\n",
       "    </tr>\n",
       "  </thead>\n",
       "  <tbody>\n",
       "    <tr>\n",
       "      <th>1</th>\n",
       "      <td>s10</td>\n",
       "      <td>Movie</td>\n",
       "      <td>The Starling</td>\n",
       "      <td>1970-01-01 00:00:00.000000007</td>\n",
       "      <td>Melissa McCarthy, Chris O'Dowd, Kevin Kline, T...</td>\n",
       "      <td>United States</td>\n",
       "      <td>2021-09-24</td>\n",
       "      <td>2021</td>\n",
       "      <td>PG-13</td>\n",
       "      <td>104 min</td>\n",
       "      <td>Comedies, Dramas</td>\n",
       "      <td>A woman adjusting to life after a loss contend...</td>\n",
       "    </tr>\n",
       "    <tr>\n",
       "      <th>30</th>\n",
       "      <td>s39</td>\n",
       "      <td>Movie</td>\n",
       "      <td>Birth of the Dragon</td>\n",
       "      <td>1970-01-01 00:00:00.000000001</td>\n",
       "      <td>Billy Magnussen, Ron Yuan, Qu Jingjing, Terry ...</td>\n",
       "      <td>China, Canada, United States</td>\n",
       "      <td>2021-09-16</td>\n",
       "      <td>2017</td>\n",
       "      <td>PG-13</td>\n",
       "      <td>96 min</td>\n",
       "      <td>Action &amp; Adventure, Dramas</td>\n",
       "      <td>A young Bruce Lee angers kung fu traditionalis...</td>\n",
       "    </tr>\n",
       "    <tr>\n",
       "      <th>44</th>\n",
       "      <td>s8</td>\n",
       "      <td>Movie</td>\n",
       "      <td>Sankofa</td>\n",
       "      <td>1970-01-01 00:00:00.000000005</td>\n",
       "      <td>Kofi Ghanaba, Oyafunmike Ogunlano, Alexandra D...</td>\n",
       "      <td>United States, Ghana, Burkina Faso, United Kin...</td>\n",
       "      <td>2021-09-24</td>\n",
       "      <td>1993</td>\n",
       "      <td>TV-MA</td>\n",
       "      <td>125 min</td>\n",
       "      <td>Dramas, Independent Movies, International Movies</td>\n",
       "      <td>On a photo shoot in Ghana, an American model s...</td>\n",
       "    </tr>\n",
       "    <tr>\n",
       "      <th>45</th>\n",
       "      <td>s9</td>\n",
       "      <td>TV Show</td>\n",
       "      <td>The Great British Baking Show</td>\n",
       "      <td>1970-01-01 00:00:00.000000006</td>\n",
       "      <td>Mel Giedroyc, Sue Perkins, Mary Berry, Paul Ho...</td>\n",
       "      <td>United Kingdom</td>\n",
       "      <td>2021-09-24</td>\n",
       "      <td>2021</td>\n",
       "      <td>TV-14</td>\n",
       "      <td>9 Seasons</td>\n",
       "      <td>British TV Shows, Reality TV</td>\n",
       "      <td>A talented batch of amateur bakers face off in...</td>\n",
       "    </tr>\n",
       "  </tbody>\n",
       "</table>\n",
       "</div>"
      ],
      "text/plain": [
       "   show_id     type                          title  \\\n",
       "1      s10    Movie                   The Starling   \n",
       "30     s39    Movie            Birth of the Dragon   \n",
       "44      s8    Movie                        Sankofa   \n",
       "45      s9  TV Show  The Great British Baking Show   \n",
       "\n",
       "                     director_id  \\\n",
       "1  1970-01-01 00:00:00.000000007   \n",
       "30 1970-01-01 00:00:00.000000001   \n",
       "44 1970-01-01 00:00:00.000000005   \n",
       "45 1970-01-01 00:00:00.000000006   \n",
       "\n",
       "                                                 cast  \\\n",
       "1   Melissa McCarthy, Chris O'Dowd, Kevin Kline, T...   \n",
       "30  Billy Magnussen, Ron Yuan, Qu Jingjing, Terry ...   \n",
       "44  Kofi Ghanaba, Oyafunmike Ogunlano, Alexandra D...   \n",
       "45  Mel Giedroyc, Sue Perkins, Mary Berry, Paul Ho...   \n",
       "\n",
       "                                              country date_added  \\\n",
       "1                                       United States 2021-09-24   \n",
       "30                       China, Canada, United States 2021-09-16   \n",
       "44  United States, Ghana, Burkina Faso, United Kin... 2021-09-24   \n",
       "45                                     United Kingdom 2021-09-24   \n",
       "\n",
       "    release_year rating   duration  \\\n",
       "1           2021  PG-13    104 min   \n",
       "30          2017  PG-13     96 min   \n",
       "44          1993  TV-MA    125 min   \n",
       "45          2021  TV-14  9 Seasons   \n",
       "\n",
       "                                           listed_in  \\\n",
       "1                                   Comedies, Dramas   \n",
       "30                        Action & Adventure, Dramas   \n",
       "44  Dramas, Independent Movies, International Movies   \n",
       "45                      British TV Shows, Reality TV   \n",
       "\n",
       "                                          description  \n",
       "1   A woman adjusting to life after a loss contend...  \n",
       "30  A young Bruce Lee angers kung fu traditionalis...  \n",
       "44  On a photo shoot in Ghana, an American model s...  \n",
       "45  A talented batch of amateur bakers face off in...  "
      ]
     },
     "execution_count": 43,
     "metadata": {},
     "output_type": "execute_result"
    }
   ],
   "source": [
    "df"
   ]
  },
  {
   "cell_type": "code",
   "execution_count": 44,
   "id": "9490c7b6",
   "metadata": {},
   "outputs": [
    {
     "data": {
      "text/plain": [
       "(4, 12)"
      ]
     },
     "execution_count": 44,
     "metadata": {},
     "output_type": "execute_result"
    }
   ],
   "source": [
    "df.shape"
   ]
  },
  {
   "cell_type": "code",
   "execution_count": 45,
   "id": "25b4cfcd",
   "metadata": {},
   "outputs": [
    {
     "data": {
      "text/plain": [
       "Index(['show_id', 'type', 'title', 'director_id', 'cast', 'country',\n",
       "       'date_added', 'release_year', 'rating', 'duration', 'listed_in',\n",
       "       'description'],\n",
       "      dtype='object')"
      ]
     },
     "execution_count": 45,
     "metadata": {},
     "output_type": "execute_result"
    }
   ],
   "source": [
    "df.columns"
   ]
  },
  {
   "cell_type": "code",
   "execution_count": 46,
   "id": "a57a260a",
   "metadata": {},
   "outputs": [
    {
     "data": {
      "text/plain": [
       "type\n",
       "Movie      United StatesChina, Canada, United StatesUnite...\n",
       "TV Show                                       United Kingdom\n",
       "Name: country, dtype: object"
      ]
     },
     "execution_count": 46,
     "metadata": {},
     "output_type": "execute_result"
    }
   ],
   "source": [
    "df.groupby('type')['country'].sum()"
   ]
  },
  {
   "cell_type": "code",
   "execution_count": 47,
   "id": "29749aa7",
   "metadata": {},
   "outputs": [
    {
     "data": {
      "text/plain": [
       "['show_id', 'title', 'director_id', 'type', 'cast']"
      ]
     },
     "execution_count": 47,
     "metadata": {},
     "output_type": "execute_result"
    }
   ],
   "source": [
    "# List of columns to drop\n",
    "columns_drop = ['show_id', 'title', 'director_id', 'type', 'cast']\n",
    "columns_drop"
   ]
  },
  {
   "cell_type": "code",
   "execution_count": 49,
   "id": "1999f7ac",
   "metadata": {},
   "outputs": [],
   "source": [
    "# Drop the columns from the DataFrame\n",
    "cleaned_data = df.drop(columns=columns_drop, inplace=True)\n",
    "cleaned_data"
   ]
  },
  {
   "cell_type": "code",
   "execution_count": 51,
   "id": "d745d5ec",
   "metadata": {},
   "outputs": [
    {
     "data": {
      "text/html": [
       "<div>\n",
       "<style scoped>\n",
       "    .dataframe tbody tr th:only-of-type {\n",
       "        vertical-align: middle;\n",
       "    }\n",
       "\n",
       "    .dataframe tbody tr th {\n",
       "        vertical-align: top;\n",
       "    }\n",
       "\n",
       "    .dataframe thead th {\n",
       "        text-align: right;\n",
       "    }\n",
       "</style>\n",
       "<table border=\"1\" class=\"dataframe\">\n",
       "  <thead>\n",
       "    <tr style=\"text-align: right;\">\n",
       "      <th></th>\n",
       "      <th>country</th>\n",
       "      <th>date_added</th>\n",
       "      <th>release_year</th>\n",
       "      <th>rating</th>\n",
       "      <th>duration</th>\n",
       "      <th>listed_in</th>\n",
       "      <th>description</th>\n",
       "    </tr>\n",
       "  </thead>\n",
       "  <tbody>\n",
       "    <tr>\n",
       "      <th>1</th>\n",
       "      <td>United States</td>\n",
       "      <td>2021-09-24</td>\n",
       "      <td>2021</td>\n",
       "      <td>PG-13</td>\n",
       "      <td>104 min</td>\n",
       "      <td>Comedies, Dramas</td>\n",
       "      <td>A woman adjusting to life after a loss contend...</td>\n",
       "    </tr>\n",
       "    <tr>\n",
       "      <th>30</th>\n",
       "      <td>China, Canada, United States</td>\n",
       "      <td>2021-09-16</td>\n",
       "      <td>2017</td>\n",
       "      <td>PG-13</td>\n",
       "      <td>96 min</td>\n",
       "      <td>Action &amp; Adventure, Dramas</td>\n",
       "      <td>A young Bruce Lee angers kung fu traditionalis...</td>\n",
       "    </tr>\n",
       "    <tr>\n",
       "      <th>44</th>\n",
       "      <td>United States, Ghana, Burkina Faso, United Kin...</td>\n",
       "      <td>2021-09-24</td>\n",
       "      <td>1993</td>\n",
       "      <td>TV-MA</td>\n",
       "      <td>125 min</td>\n",
       "      <td>Dramas, Independent Movies, International Movies</td>\n",
       "      <td>On a photo shoot in Ghana, an American model s...</td>\n",
       "    </tr>\n",
       "    <tr>\n",
       "      <th>45</th>\n",
       "      <td>United Kingdom</td>\n",
       "      <td>2021-09-24</td>\n",
       "      <td>2021</td>\n",
       "      <td>TV-14</td>\n",
       "      <td>9 Seasons</td>\n",
       "      <td>British TV Shows, Reality TV</td>\n",
       "      <td>A talented batch of amateur bakers face off in...</td>\n",
       "    </tr>\n",
       "  </tbody>\n",
       "</table>\n",
       "</div>"
      ],
      "text/plain": [
       "                                              country date_added  \\\n",
       "1                                       United States 2021-09-24   \n",
       "30                       China, Canada, United States 2021-09-16   \n",
       "44  United States, Ghana, Burkina Faso, United Kin... 2021-09-24   \n",
       "45                                     United Kingdom 2021-09-24   \n",
       "\n",
       "    release_year rating   duration  \\\n",
       "1           2021  PG-13    104 min   \n",
       "30          2017  PG-13     96 min   \n",
       "44          1993  TV-MA    125 min   \n",
       "45          2021  TV-14  9 Seasons   \n",
       "\n",
       "                                           listed_in  \\\n",
       "1                                   Comedies, Dramas   \n",
       "30                        Action & Adventure, Dramas   \n",
       "44  Dramas, Independent Movies, International Movies   \n",
       "45                      British TV Shows, Reality TV   \n",
       "\n",
       "                                          description  \n",
       "1   A woman adjusting to life after a loss contend...  \n",
       "30  A young Bruce Lee angers kung fu traditionalis...  \n",
       "44  On a photo shoot in Ghana, an American model s...  \n",
       "45  A talented batch of amateur bakers face off in...  "
      ]
     },
     "execution_count": 51,
     "metadata": {},
     "output_type": "execute_result"
    }
   ],
   "source": [
    "# Filter rows where  are less than 2024\n",
    "release_year= df[df['release_year'] < 2024].head(10) \n",
    "release_year"
   ]
  },
  {
   "cell_type": "code",
   "execution_count": 57,
   "id": "388b8d45",
   "metadata": {},
   "outputs": [
    {
     "data": {
      "text/html": [
       "<div>\n",
       "<style scoped>\n",
       "    .dataframe tbody tr th:only-of-type {\n",
       "        vertical-align: middle;\n",
       "    }\n",
       "\n",
       "    .dataframe tbody tr th {\n",
       "        vertical-align: top;\n",
       "    }\n",
       "\n",
       "    .dataframe thead th {\n",
       "        text-align: right;\n",
       "    }\n",
       "</style>\n",
       "<table border=\"1\" class=\"dataframe\">\n",
       "  <thead>\n",
       "    <tr style=\"text-align: right;\">\n",
       "      <th></th>\n",
       "      <th>country</th>\n",
       "      <th>date_added</th>\n",
       "      <th>release_year</th>\n",
       "      <th>rating</th>\n",
       "      <th>duration</th>\n",
       "      <th>listed_in</th>\n",
       "      <th>description</th>\n",
       "    </tr>\n",
       "  </thead>\n",
       "  <tbody>\n",
       "    <tr>\n",
       "      <th>1</th>\n",
       "      <td>United States</td>\n",
       "      <td>2021-09-24</td>\n",
       "      <td>2021</td>\n",
       "      <td>PG-13</td>\n",
       "      <td>104 min</td>\n",
       "      <td>Comedies, Dramas</td>\n",
       "      <td>A woman adjusting to life after a loss contend...</td>\n",
       "    </tr>\n",
       "  </tbody>\n",
       "</table>\n",
       "</div>"
      ],
      "text/plain": [
       "         country date_added  release_year rating duration         listed_in  \\\n",
       "1  United States 2021-09-24          2021  PG-13  104 min  Comedies, Dramas   \n",
       "\n",
       "                                         description  \n",
       "1  A woman adjusting to life after a loss contend...  "
      ]
     },
     "execution_count": 57,
     "metadata": {},
     "output_type": "execute_result"
    }
   ],
   "source": [
    "# Filter rows where Category is 'United States' and SubCategory is '104 min'\n",
    "country_duration= df.query(\"country == 'United States' and duration == '104 min'\")\n",
    "country_duration           "
   ]
  },
  {
   "cell_type": "code",
   "execution_count": 60,
   "id": "cebb8d78",
   "metadata": {},
   "outputs": [
    {
     "data": {
      "text/html": [
       "<div>\n",
       "<style scoped>\n",
       "    .dataframe tbody tr th:only-of-type {\n",
       "        vertical-align: middle;\n",
       "    }\n",
       "\n",
       "    .dataframe tbody tr th {\n",
       "        vertical-align: top;\n",
       "    }\n",
       "\n",
       "    .dataframe thead th {\n",
       "        text-align: right;\n",
       "    }\n",
       "</style>\n",
       "<table border=\"1\" class=\"dataframe\">\n",
       "  <thead>\n",
       "    <tr style=\"text-align: right;\">\n",
       "      <th></th>\n",
       "      <th>country</th>\n",
       "      <th>date_added</th>\n",
       "      <th>release_year</th>\n",
       "      <th>rating</th>\n",
       "      <th>duration</th>\n",
       "      <th>listed_in</th>\n",
       "      <th>description</th>\n",
       "    </tr>\n",
       "  </thead>\n",
       "  <tbody>\n",
       "  </tbody>\n",
       "</table>\n",
       "</div>"
      ],
      "text/plain": [
       "Empty DataFrame\n",
       "Columns: [country, date_added, release_year, rating, duration, listed_in, description]\n",
       "Index: []"
      ]
     },
     "execution_count": 60,
     "metadata": {},
     "output_type": "execute_result"
    }
   ],
   "source": [
    "# Filter rows where release_year is 2021\n",
    "release_year_2021=df[df['release_year'] == '2021']\n",
    "release_year_2021"
   ]
  },
  {
   "cell_type": "code",
   "execution_count": 63,
   "id": "19349d7b",
   "metadata": {},
   "outputs": [
    {
     "data": {
      "text/html": [
       "<div>\n",
       "<style scoped>\n",
       "    .dataframe tbody tr th:only-of-type {\n",
       "        vertical-align: middle;\n",
       "    }\n",
       "\n",
       "    .dataframe tbody tr th {\n",
       "        vertical-align: top;\n",
       "    }\n",
       "\n",
       "    .dataframe thead th {\n",
       "        text-align: right;\n",
       "    }\n",
       "</style>\n",
       "<table border=\"1\" class=\"dataframe\">\n",
       "  <thead>\n",
       "    <tr style=\"text-align: right;\">\n",
       "      <th></th>\n",
       "      <th>country</th>\n",
       "      <th>date_added</th>\n",
       "      <th>release_year</th>\n",
       "      <th>rating</th>\n",
       "      <th>duration</th>\n",
       "      <th>listed_in</th>\n",
       "      <th>description</th>\n",
       "    </tr>\n",
       "  </thead>\n",
       "  <tbody>\n",
       "    <tr>\n",
       "      <th>1</th>\n",
       "      <td>United States</td>\n",
       "      <td>2021-09-24</td>\n",
       "      <td>2021</td>\n",
       "      <td>PG-13</td>\n",
       "      <td>104 min</td>\n",
       "      <td>Comedies, Dramas</td>\n",
       "      <td>A woman adjusting to life after a loss contend...</td>\n",
       "    </tr>\n",
       "    <tr>\n",
       "      <th>45</th>\n",
       "      <td>United Kingdom</td>\n",
       "      <td>2021-09-24</td>\n",
       "      <td>2021</td>\n",
       "      <td>TV-14</td>\n",
       "      <td>9 Seasons</td>\n",
       "      <td>British TV Shows, Reality TV</td>\n",
       "      <td>A talented batch of amateur bakers face off in...</td>\n",
       "    </tr>\n",
       "  </tbody>\n",
       "</table>\n",
       "</div>"
      ],
      "text/plain": [
       "           country date_added  release_year rating   duration  \\\n",
       "1    United States 2021-09-24          2021  PG-13    104 min   \n",
       "45  United Kingdom 2021-09-24          2021  TV-14  9 Seasons   \n",
       "\n",
       "                       listed_in  \\\n",
       "1               Comedies, Dramas   \n",
       "45  British TV Shows, Reality TV   \n",
       "\n",
       "                                          description  \n",
       "1   A woman adjusting to life after a loss contend...  \n",
       "45  A talented batch of amateur bakers face off in...  "
      ]
     },
     "execution_count": 63,
     "metadata": {},
     "output_type": "execute_result"
    }
   ],
   "source": [
    "release_year_2021=df[df['release_year'] == 2021]\n",
    "release_year_2021"
   ]
  },
  {
   "cell_type": "code",
   "execution_count": 64,
   "id": "d1ea7c3d",
   "metadata": {},
   "outputs": [
    {
     "data": {
      "text/html": [
       "<div>\n",
       "<style scoped>\n",
       "    .dataframe tbody tr th:only-of-type {\n",
       "        vertical-align: middle;\n",
       "    }\n",
       "\n",
       "    .dataframe tbody tr th {\n",
       "        vertical-align: top;\n",
       "    }\n",
       "\n",
       "    .dataframe thead th {\n",
       "        text-align: right;\n",
       "    }\n",
       "</style>\n",
       "<table border=\"1\" class=\"dataframe\">\n",
       "  <thead>\n",
       "    <tr style=\"text-align: right;\">\n",
       "      <th></th>\n",
       "      <th>release_year</th>\n",
       "    </tr>\n",
       "  </thead>\n",
       "  <tbody>\n",
       "    <tr>\n",
       "      <th>count</th>\n",
       "      <td>4.000000</td>\n",
       "    </tr>\n",
       "    <tr>\n",
       "      <th>mean</th>\n",
       "      <td>2013.000000</td>\n",
       "    </tr>\n",
       "    <tr>\n",
       "      <th>std</th>\n",
       "      <td>13.466007</td>\n",
       "    </tr>\n",
       "    <tr>\n",
       "      <th>min</th>\n",
       "      <td>1993.000000</td>\n",
       "    </tr>\n",
       "    <tr>\n",
       "      <th>25%</th>\n",
       "      <td>2011.000000</td>\n",
       "    </tr>\n",
       "    <tr>\n",
       "      <th>50%</th>\n",
       "      <td>2019.000000</td>\n",
       "    </tr>\n",
       "    <tr>\n",
       "      <th>75%</th>\n",
       "      <td>2021.000000</td>\n",
       "    </tr>\n",
       "    <tr>\n",
       "      <th>max</th>\n",
       "      <td>2021.000000</td>\n",
       "    </tr>\n",
       "  </tbody>\n",
       "</table>\n",
       "</div>"
      ],
      "text/plain": [
       "       release_year\n",
       "count      4.000000\n",
       "mean    2013.000000\n",
       "std       13.466007\n",
       "min     1993.000000\n",
       "25%     2011.000000\n",
       "50%     2019.000000\n",
       "75%     2021.000000\n",
       "max     2021.000000"
      ]
     },
     "execution_count": 64,
     "metadata": {},
     "output_type": "execute_result"
    }
   ],
   "source": [
    "# Display summary statistics\n",
    "df.describe()"
   ]
  },
  {
   "cell_type": "code",
   "execution_count": 12,
   "id": "564b551d",
   "metadata": {},
   "outputs": [
    {
     "data": {
      "image/png": "[encoded data removed]",
      "text/plain": [
       "<Figure size 1000x800 with 1 Axes>"
      ]
     },
     "metadata": {},
     "output_type": "display_data"
    }
   ],
   "source": [
    "# Display histograms for the first 4 columns \n",
    "\n",
    "\n",
    "df.iloc[:, :4].hist(figsize=(10, 8))\n",
    "\n",
    "# Display the first 4 rows of the DataFrame \n",
    "plt.tight_layout()\n",
    "plt.xticks(rotation=45)\n",
    "df.head(4)\n",
    "\n",
    "\n",
    "# Show the plots\n",
    "plt.show()"
   ]
  },
  {
   "cell_type": "code",
   "execution_count": 69,
   "id": "7e38ea06",
   "metadata": {},
   "outputs": [
    {
     "data": {
      "image/png": "[encoded data removed]",
      "text/plain": [
       "<Figure size 1000x600 with 1 Axes>"
      ]
     },
     "metadata": {},
     "output_type": "display_data"
    }
   ],
   "source": [
    "# Sample data\n",
    "countries = ['United States', 'China', 'United Kingdom']\n",
    "listed_in_counts = [10, 5, 8]  # Sample counts for each country\n",
    "\n",
    "# Custom colors for each country\n",
    "colors = {'United States': 'black', 'China': 'grey', 'United Kingdom': 'pink'}\n",
    "\n",
    "# Plotting the bar graph\n",
    "plt.figure(figsize=(10, 6))\n",
    "plt.bar(countries, listed_in_counts, color=[colors[c] for c in countries])  # Using custom colors\n",
    "plt.xlabel('Country')\n",
    "plt.ylabel('Listed In Counts')\n",
    "plt.title('Number of Listed In per Country')\n",
    "plt.xticks(rotation=45)  # Rotate x-axis labels for better readability\n",
    "plt.tight_layout()\n",
    "plt.show()"
   ]
  },
  {
   "cell_type": "code",
   "execution_count": 73,
   "id": "a041bb46",
   "metadata": {},
   "outputs": [
    {
     "data": {
      "image/png": "[encoded data removed]",
      "text/plain": [
       "<Figure size 1000x800 with 1 Axes>"
      ]
     },
     "metadata": {},
     "output_type": "display_data"
    }
   ],
   "source": [
    "# Grouping the data by Country and counting the number of release year for each country\n",
    "release_year_by_country = df.groupby('country')['release_year'].count().reset_index()\n",
    "\n",
    "# Sorting the data by number of release year in descending order\n",
    "release_year_by_country = release_year_by_country.sort_values(by='release_year', ascending=False).head(10)\n",
    "\n",
    "# Plotting the bar chart\n",
    "plt.figure(figsize=(10, 8))\n",
    "plt.bar(release_year_by_country['country'], release_year_by_country['release_year'], color='skyblue')\n",
    "plt.xlabel('Country')\n",
    "plt.ylabel('Number of Release Year')\n",
    "plt.title('Distribution of Release Year by Country')\n",
    "plt.xticks(rotation=45)  # Rotate x-axis labels for better readability\n",
    "plt.tight_layout()\n",
    "plt.show()"
   ]
  },
  {
   "cell_type": "code",
   "execution_count": 76,
   "id": "08b79581",
   "metadata": {},
   "outputs": [
    {
     "data": {
      "image/png": "[encoded data removed]",
      "text/plain": [
       "<Figure size 1000x600 with 1 Axes>"
      ]
     },
     "metadata": {},
     "output_type": "display_data"
    }
   ],
   "source": [
    "# Plotting the boxplot with 'date_added' instead of 'release_year'\n",
    "plt.figure(figsize=(10, 6))\n",
    "sns.boxplot(x='date_added', y='release_year', data=df, palette='viridis')\n",
    "plt.title('date_added Distribution by release_year')\n",
    "plt.xlabel('date_added')\n",
    "plt.ylabel('release_year')\n",
    "plt.show()"
   ]
  },
  {
   "cell_type": "code",
   "execution_count": 85,
   "id": "aa0e06ca",
   "metadata": {},
   "outputs": [
    {
     "data": {
      "image/png": "[encoded data removed]",
      "text/plain": [
       "<Figure size 1000x600 with 1 Axes>"
      ]
     },
     "metadata": {},
     "output_type": "display_data"
    }
   ],
   "source": [
    "# Selecting two numeric columns for the scatter plot\n",
    "x = df['release_year']\n",
    "y = df['duration']\n",
    "\n",
    "# Creating the scatter plot\n",
    "plt.figure(figsize=(10, 6))\n",
    "plt.scatter(x, y, alpha=0.5)\n",
    "plt.title('Scatter Plot of Release Year vs Duration')\n",
    "plt.xlabel('Release Year')\n",
    "plt.ylabel('Duration')\n",
    "plt.grid(True)\n",
    "plt.show()"
   ]
  },
  {
   "cell_type": "code",
   "execution_count": 87,
   "id": "2ff10844",
   "metadata": {},
   "outputs": [
    {
     "data": {
      "image/png": "[encoded data removed]",
      "text/plain": [
       "<Figure size 800x800 with 1 Axes>"
      ]
     },
     "metadata": {},
     "output_type": "display_data"
    }
   ],
   "source": [
    "rating_counts = df['rating'].value_counts()\n",
    "\n",
    "# Plotting the pie chart\n",
    "plt.figure(figsize=(8, 8))\n",
    "plt.pie(rating_counts, labels=rating_counts.index, autopct='%1.1f%%', startangle=140)\n",
    "plt.title('Distribution of Ratings')\n",
    "plt.axis('equal')  # Equal aspect ratio ensures that pie is drawn as a circle\n",
    "plt.show()"
   ]
  },
  {
   "cell_type": "code",
   "execution_count": null,
   "id": "f2ef9abd",
   "metadata": {},
   "outputs": [],
   "source": []
  }
 ],
 "metadata": {
  "kernelspec": {
   "display_name": "Python 3 (ipykernel)",
   "language": "python",
   "name": "python3"
  },
  "language_info": {
   "codemirror_mode": {
    "name": "ipython",
    "version": 3
   },
   "file_extension": ".py",
   "mimetype": "text/x-python",
   "name": "python",
   "nbconvert_exporter": "python",
   "pygments_lexer": "ipython3",
   "version": "3.11.4"
  }
 },
 "nbformat": 4,
 "nbformat_minor": 5
}
